{
  "nbformat": 4,
  "nbformat_minor": 0,
  "metadata": {
    "colab": {
      "name": "Introducción a Numpy",
      "provenance": []
    },
    "kernelspec": {
      "name": "python3",
      "display_name": "Python 3"
    },
    "language_info": {
      "name": "python"
    }
  },
  "cells": [
    {
      "cell_type": "markdown",
      "metadata": {
        "id": "c6_iaIF2QnH_"
      },
      "source": [
        "# Contenido\n",
        "\n",
        "Estructuras de datos\n",
        "- Array\n",
        "- Matrices\n",
        "- Operaciones"
      ]
    },
    {
      "cell_type": "code",
      "metadata": {
        "id": "cLCHJrSUPoXX"
      },
      "source": [
        "import numpy as np #libreria básica de numpy"
      ],
      "execution_count": null,
      "outputs": []
    },
    {
      "cell_type": "markdown",
      "metadata": {
        "id": "86jFsqlNQ3dn"
      },
      "source": [
        "Creación de un vector con NumPy"
      ]
    },
    {
      "cell_type": "code",
      "metadata": {
        "id": "ldhg3SOHQlmw",
        "colab": {
          "base_uri": "https://localhost:8080/"
        },
        "outputId": "eb50f0db-1f7d-46ae-d671-e48d40c9baa7"
      },
      "source": [
        "x = np.array([1, 2, 3])\n",
        "print(x, type(x))"
      ],
      "execution_count": null,
      "outputs": [
        {
          "output_type": "stream",
          "text": [
            "[1 2 3] <class 'numpy.ndarray'>\n"
          ],
          "name": "stdout"
        }
      ]
    },
    {
      "cell_type": "code",
      "metadata": {
        "colab": {
          "base_uri": "https://localhost:8080/"
        },
        "id": "24F678hVx_yo",
        "outputId": "e4f53403-d497-4be7-9a1d-ea19fa5c10bd"
      },
      "source": [
        "x.shape"
      ],
      "execution_count": null,
      "outputs": [
        {
          "output_type": "execute_result",
          "data": {
            "text/plain": [
              "(3,)"
            ]
          },
          "metadata": {
            "tags": []
          },
          "execution_count": 14
        }
      ]
    },
    {
      "cell_type": "code",
      "metadata": {
        "id": "TJNcdg4gRv9-",
        "colab": {
          "base_uri": "https://localhost:8080/"
        },
        "outputId": "7e2644d0-389b-4bff-9695-9f25cdf53b0d"
      },
      "source": [
        "x[1]"
      ],
      "execution_count": null,
      "outputs": [
        {
          "output_type": "execute_result",
          "data": {
            "text/plain": [
              "2"
            ]
          },
          "metadata": {
            "tags": []
          },
          "execution_count": 10
        }
      ]
    },
    {
      "cell_type": "markdown",
      "metadata": {
        "id": "m-r11EKZR2P_"
      },
      "source": [
        "**Crear una matriz**"
      ]
    },
    {
      "cell_type": "code",
      "metadata": {
        "id": "TKDofwhIR1zA",
        "colab": {
          "base_uri": "https://localhost:8080/"
        },
        "outputId": "2d525b3b-7c5b-4a76-964a-e334d37f063d"
      },
      "source": [
        "b = np.array([[1, 2],[3, 4]])\n",
        "print(b)"
      ],
      "execution_count": null,
      "outputs": [
        {
          "output_type": "stream",
          "text": [
            "[[1 2]\n",
            " [3 4]]\n"
          ],
          "name": "stdout"
        }
      ]
    },
    {
      "cell_type": "code",
      "metadata": {
        "id": "TWl8s_U6Rv0G",
        "colab": {
          "base_uri": "https://localhost:8080/"
        },
        "outputId": "84a45d6c-e8c5-4369-aff5-fbbd63fd92ee"
      },
      "source": [
        "b.shape"
      ],
      "execution_count": null,
      "outputs": [
        {
          "output_type": "execute_result",
          "data": {
            "text/plain": [
              "(2, 2)"
            ]
          },
          "metadata": {
            "tags": []
          },
          "execution_count": 15
        }
      ]
    },
    {
      "cell_type": "code",
      "metadata": {
        "id": "VLUGeixfSOu3",
        "colab": {
          "base_uri": "https://localhost:8080/"
        },
        "outputId": "2247cf9d-8f7b-4c8c-9c2f-15993645117b"
      },
      "source": [
        "b[1,1]"
      ],
      "execution_count": null,
      "outputs": [
        {
          "output_type": "execute_result",
          "data": {
            "text/plain": [
              "4"
            ]
          },
          "metadata": {
            "tags": []
          },
          "execution_count": 16
        }
      ]
    },
    {
      "cell_type": "markdown",
      "metadata": {
        "id": "EhDM2YXbSUD2"
      },
      "source": [
        "## Extracción de Filas y Columnas"
      ]
    },
    {
      "cell_type": "code",
      "metadata": {
        "id": "HOhhQxrvSXan"
      },
      "source": [
        "a = np.array([[1,2,3,4], [5,6,7,8], [9,10,11,12]])"
      ],
      "execution_count": null,
      "outputs": []
    },
    {
      "cell_type": "code",
      "metadata": {
        "id": "PpgsS-AlSfLf",
        "colab": {
          "base_uri": "https://localhost:8080/"
        },
        "outputId": "80f74370-2590-40ec-919a-1c359d8f559a"
      },
      "source": [
        "print(a)"
      ],
      "execution_count": null,
      "outputs": [
        {
          "output_type": "stream",
          "text": [
            "[[ 1  2  3  4]\n",
            " [ 5  6  7  8]\n",
            " [ 9 10 11 12]]\n"
          ],
          "name": "stdout"
        }
      ]
    },
    {
      "cell_type": "code",
      "metadata": {
        "id": "j-uKQhtVShn3",
        "colab": {
          "base_uri": "https://localhost:8080/"
        },
        "outputId": "d1d32e69-f02d-494e-9ee4-12138476be28"
      },
      "source": [
        "a.shape"
      ],
      "execution_count": null,
      "outputs": [
        {
          "output_type": "execute_result",
          "data": {
            "text/plain": [
              "(3, 4)"
            ]
          },
          "metadata": {
            "tags": []
          },
          "execution_count": 22
        }
      ]
    },
    {
      "cell_type": "code",
      "metadata": {
        "id": "cLTHls_EShiP",
        "colab": {
          "base_uri": "https://localhost:8080/"
        },
        "outputId": "501196df-622f-4a71-b63f-7c41c0f69cb2"
      },
      "source": [
        "print(a[0,:])"
      ],
      "execution_count": null,
      "outputs": [
        {
          "output_type": "stream",
          "text": [
            "[1 2 3 4]\n"
          ],
          "name": "stdout"
        }
      ]
    },
    {
      "cell_type": "code",
      "metadata": {
        "id": "o7YOOv6PShYm",
        "colab": {
          "base_uri": "https://localhost:8080/"
        },
        "outputId": "25d7f0fd-b7d0-4d82-f8d8-0d95afd3eeb3"
      },
      "source": [
        "print(a[:,1])"
      ],
      "execution_count": null,
      "outputs": [
        {
          "output_type": "stream",
          "text": [
            "[ 2  6 10]\n"
          ],
          "name": "stdout"
        }
      ]
    },
    {
      "cell_type": "code",
      "metadata": {
        "id": "fGKAcHGySlXx",
        "colab": {
          "base_uri": "https://localhost:8080/"
        },
        "outputId": "3eea72bc-5ac7-4e35-e7ec-ff938cb2e236"
      },
      "source": [
        "c = a[:,1:3]\n",
        "print(c)"
      ],
      "execution_count": null,
      "outputs": [
        {
          "output_type": "stream",
          "text": [
            "[[ 2  3]\n",
            " [ 6  7]\n",
            " [10 11]]\n"
          ],
          "name": "stdout"
        }
      ]
    },
    {
      "cell_type": "code",
      "metadata": {
        "id": "WPC0tMdISk-b",
        "colab": {
          "base_uri": "https://localhost:8080/"
        },
        "outputId": "ee0ee41f-721c-4626-8294-b642787aeddc"
      },
      "source": [
        "c.shape"
      ],
      "execution_count": null,
      "outputs": [
        {
          "output_type": "execute_result",
          "data": {
            "text/plain": [
              "(3, 2)"
            ]
          },
          "metadata": {
            "tags": []
          },
          "execution_count": 27
        }
      ]
    },
    {
      "cell_type": "markdown",
      "metadata": {
        "id": "b0rg01nCS1Eu"
      },
      "source": [
        "## Operaciones con Matrices"
      ]
    },
    {
      "cell_type": "code",
      "metadata": {
        "id": "wer8TDxsSk3m"
      },
      "source": [
        "x = np.array([[1,2],[3,4]], dtype=np.float64)\n",
        "y = np.array([[5,6],[7,8]], dtype=np.float64)"
      ],
      "execution_count": null,
      "outputs": []
    },
    {
      "cell_type": "code",
      "metadata": {
        "id": "Of4ThakMS-rV",
        "colab": {
          "base_uri": "https://localhost:8080/"
        },
        "outputId": "2ae18513-1836-484f-ee9b-debc013b5584"
      },
      "source": [
        "print(x)\n",
        "print(y)"
      ],
      "execution_count": null,
      "outputs": [
        {
          "output_type": "stream",
          "text": [
            "[[1. 2.]\n",
            " [3. 4.]]\n",
            "[[5. 6.]\n",
            " [7. 8.]]\n"
          ],
          "name": "stdout"
        }
      ]
    },
    {
      "cell_type": "code",
      "metadata": {
        "id": "1sX1fXL8S-mZ",
        "colab": {
          "base_uri": "https://localhost:8080/"
        },
        "outputId": "9e7ecfd4-8d7a-49b0-befe-b21db3fcc640"
      },
      "source": [
        "print(x+y)"
      ],
      "execution_count": null,
      "outputs": [
        {
          "output_type": "stream",
          "text": [
            "[[ 6.  8.]\n",
            " [10. 12.]]\n"
          ],
          "name": "stdout"
        }
      ]
    },
    {
      "cell_type": "code",
      "metadata": {
        "id": "80eMSGOmS-f2",
        "colab": {
          "base_uri": "https://localhost:8080/"
        },
        "outputId": "321a0331-ca54-4059-ba94-54b25916f239"
      },
      "source": [
        "print(x+1)"
      ],
      "execution_count": null,
      "outputs": [
        {
          "output_type": "stream",
          "text": [
            "[[2. 3.]\n",
            " [4. 5.]]\n"
          ],
          "name": "stdout"
        }
      ]
    },
    {
      "cell_type": "markdown",
      "metadata": {
        "id": "qeJ_AEzITHz2"
      },
      "source": [
        "## Multiplicación de  Matrices"
      ]
    },
    {
      "cell_type": "code",
      "metadata": {
        "id": "B6EbvY9XTNb3"
      },
      "source": [
        "x = np.array([[1,2],[3,4]])\n",
        "y = np.array([[5,6],[7,8]])"
      ],
      "execution_count": null,
      "outputs": []
    },
    {
      "cell_type": "code",
      "metadata": {
        "colab": {
          "base_uri": "https://localhost:8080/"
        },
        "id": "eqnePyExUP5W",
        "outputId": "b93c82fa-4200-422b-c71a-d0f0ffbc6b6b"
      },
      "source": [
        "print(x)\n",
        "print(y)"
      ],
      "execution_count": null,
      "outputs": [
        {
          "output_type": "stream",
          "text": [
            "[[1 2]\n",
            " [3 4]]\n",
            "[[5 6]\n",
            " [7 8]]\n"
          ],
          "name": "stdout"
        }
      ]
    },
    {
      "cell_type": "code",
      "metadata": {
        "colab": {
          "base_uri": "https://localhost:8080/"
        },
        "id": "Hgzry19yTNQn",
        "outputId": "4b9230cc-8885-4556-eae4-cb1d41f25dcb"
      },
      "source": [
        "print(x.dot(y))"
      ],
      "execution_count": null,
      "outputs": [
        {
          "output_type": "stream",
          "text": [
            "[[19 22]\n",
            " [43 50]]\n"
          ],
          "name": "stdout"
        }
      ]
    },
    {
      "cell_type": "code",
      "metadata": {
        "colab": {
          "base_uri": "https://localhost:8080/"
        },
        "id": "09cv7sA5T3II",
        "outputId": "7abd23a9-cbb0-429f-bc58-6bc8a7dad4d5"
      },
      "source": [
        "print(x*y)"
      ],
      "execution_count": null,
      "outputs": [
        {
          "output_type": "stream",
          "text": [
            "[[ 5 12]\n",
            " [21 32]]\n"
          ],
          "name": "stdout"
        }
      ]
    }
  ]
}